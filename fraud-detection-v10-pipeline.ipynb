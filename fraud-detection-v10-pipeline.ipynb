{
 "cells": [
  {
   "cell_type": "markdown",
   "metadata": {
    "papermill": {
     "duration": 0.024529,
     "end_time": "2021-01-25T21:28:48.475757",
     "exception": false,
     "start_time": "2021-01-25T21:28:48.451228",
     "status": "completed"
    },
    "tags": []
   },
   "source": [
    "## Import"
   ]
  },
  {
   "cell_type": "code",
   "execution_count": 1,
   "metadata": {
    "_cell_guid": "b1076dfc-b9ad-4769-8c92-a6c4dae69d19",
    "_uuid": "8f2839f25d086af736a60e9eeb907d3b93b6e0e5",
    "execution": {
     "iopub.execute_input": "2021-01-25T21:28:48.529987Z",
     "iopub.status.busy": "2021-01-25T21:28:48.529334Z",
     "iopub.status.idle": "2021-01-25T21:28:48.549762Z",
     "shell.execute_reply": "2021-01-25T21:28:48.550457Z"
    },
    "papermill": {
     "duration": 0.051415,
     "end_time": "2021-01-25T21:28:48.550651",
     "exception": false,
     "start_time": "2021-01-25T21:28:48.499236",
     "status": "completed"
    },
    "scrolled": true,
    "tags": []
   },
   "outputs": [
    {
     "name": "stdout",
     "output_type": "stream",
     "text": [
      "../input/fraud-detection/df_te_allc.csv\n",
      "../input/fraud-detection/df_te_50kc.csv\n",
      "../input/fraud-detection/df_10kc.csv\n",
      "../input/fraud-detection/to_50kc.pkl\n",
      "../input/fraud-detection/df_allc.csv\n",
      "../input/fraud-detection/to_tst_50kc.pkl\n",
      "../input/fraud-detection/to_10kc.pkl\n",
      "../input/fraud-detection/df_50kc.csv\n",
      "../input/fraud-detection/df_te_10kc.csv\n",
      "../input/fraud-detection/to_tst_10kc.pkl\n",
      "../input/fraud-detection/to_allc.pkl\n",
      "../input/fraud-detection/to_tst_allc.pkl\n",
      "../input/ieee-fraud-detection-joined-tables/tr_tran_iden.csv\n",
      "../input/ieee-fraud-detection-joined-tables/tr_sample-100k.csv\n",
      "../input/ieee-fraud-detection-joined-tables/te_tran_iden.csv\n",
      "../input/ieee-fraud-detection-joined-tables/te_sample-100k.csv\n",
      "../input/ieee-fraud-detection/sample_submission.csv\n",
      "../input/ieee-fraud-detection/test_identity.csv\n",
      "../input/ieee-fraud-detection/train_identity.csv\n",
      "../input/ieee-fraud-detection/test_transaction.csv\n",
      "../input/ieee-fraud-detection/train_transaction.csv\n"
     ]
    }
   ],
   "source": [
    "# This Python 3 environment comes with many helpful analytics libraries installed\n",
    "# It is defined by the kaggle/python Docker image: https://github.com/kaggle/docker-python\n",
    "# For example, here's several helpful packages to load\n",
    "\n",
    "import numpy as np # linear algebra\n",
    "import pandas as pd # data processing, CSV file I/O (e.g. pd.read_csv)\n",
    "\n",
    "# Input data files are available in the read-only \"../input/\" directory\n",
    "# For example, running this (by clicking run or pressing Shift+Enter) will list all files under the input directory\n",
    "\n",
    "import os\n",
    "for dirname, _, filenames in os.walk('../input'):\n",
    "    for filename in filenames:\n",
    "        print(os.path.join(dirname, filename))\n",
    "\n",
    "# You can write up to 20GB to the current directory (/kaggle/working/) that gets preserved as output when you create a version using \"Save & Run All\" \n",
    "# You can also write temporary files to /kaggle/temp/, but they won't be saved outside of the current session"
   ]
  },
  {
   "cell_type": "code",
   "execution_count": 2,
   "metadata": {
    "execution": {
     "iopub.execute_input": "2021-01-25T21:28:48.604813Z",
     "iopub.status.busy": "2021-01-25T21:28:48.603997Z",
     "iopub.status.idle": "2021-01-25T21:29:04.384990Z",
     "shell.execute_reply": "2021-01-25T21:29:04.383752Z"
    },
    "papermill": {
     "duration": 15.809596,
     "end_time": "2021-01-25T21:29:04.385120",
     "exception": false,
     "start_time": "2021-01-25T21:28:48.575524",
     "status": "completed"
    },
    "scrolled": true,
    "tags": []
   },
   "outputs": [],
   "source": [
    "!pip install -Uqq fastbook\n",
    "import fastbook\n",
    "fastbook.setup_book()\n",
    "from fastbook import *"
   ]
  },
  {
   "cell_type": "code",
   "execution_count": 3,
   "metadata": {
    "execution": {
     "iopub.execute_input": "2021-01-25T21:29:04.441185Z",
     "iopub.status.busy": "2021-01-25T21:29:04.440483Z",
     "iopub.status.idle": "2021-01-25T21:29:04.479352Z",
     "shell.execute_reply": "2021-01-25T21:29:04.478819Z"
    },
    "papermill": {
     "duration": 0.068992,
     "end_time": "2021-01-25T21:29:04.479456",
     "exception": false,
     "start_time": "2021-01-25T21:29:04.410464",
     "status": "completed"
    },
    "scrolled": true,
    "tags": []
   },
   "outputs": [],
   "source": [
    "## look into the dater\n",
    "#from fastbook import *\n",
    "#from kaggle import api\n",
    "from pandas.api.types import is_string_dtype, is_numeric_dtype, is_categorical_dtype\n",
    "from fastai.tabular.all import *\n",
    "from sklearn.ensemble import RandomForestRegressor, RandomForestClassifier\n",
    "from sklearn.tree import DecisionTreeRegressor, DecisionTreeClassifier\n",
    "from sklearn.model_selection import StratifiedKFold\n",
    "from sklearn.model_selection import train_test_split\n",
    "#!pip install dtreeviz\n",
    "\n",
    "from IPython.display import Image, display_svg, SVG"
   ]
  },
  {
   "cell_type": "code",
   "execution_count": 4,
   "metadata": {
    "execution": {
     "iopub.execute_input": "2021-01-25T21:29:04.534238Z",
     "iopub.status.busy": "2021-01-25T21:29:04.533448Z",
     "iopub.status.idle": "2021-01-25T21:29:04.537505Z",
     "shell.execute_reply": "2021-01-25T21:29:04.537030Z"
    },
    "papermill": {
     "duration": 0.033197,
     "end_time": "2021-01-25T21:29:04.537614",
     "exception": false,
     "start_time": "2021-01-25T21:29:04.504417",
     "status": "completed"
    },
    "scrolled": true,
    "tags": []
   },
   "outputs": [],
   "source": [
    "from sklearn.metrics import confusion_matrix, roc_auc_score, plot_confusion_matrix, precision_score, recall_score, classification_report, plot_roc_curve, roc_curve\n",
    "from sklearn.model_selection import train_test_split"
   ]
  },
  {
   "cell_type": "code",
   "execution_count": 5,
   "metadata": {
    "execution": {
     "iopub.execute_input": "2021-01-25T21:29:04.591034Z",
     "iopub.status.busy": "2021-01-25T21:29:04.590301Z",
     "iopub.status.idle": "2021-01-25T21:29:04.594310Z",
     "shell.execute_reply": "2021-01-25T21:29:04.593819Z"
    },
    "papermill": {
     "duration": 0.031958,
     "end_time": "2021-01-25T21:29:04.594400",
     "exception": false,
     "start_time": "2021-01-25T21:29:04.562442",
     "status": "completed"
    },
    "scrolled": true,
    "tags": []
   },
   "outputs": [],
   "source": [
    "import gc"
   ]
  },
  {
   "cell_type": "code",
   "execution_count": 6,
   "metadata": {
    "execution": {
     "iopub.execute_input": "2021-01-25T21:29:04.649019Z",
     "iopub.status.busy": "2021-01-25T21:29:04.648282Z",
     "iopub.status.idle": "2021-01-25T21:29:04.652417Z",
     "shell.execute_reply": "2021-01-25T21:29:04.651928Z"
    },
    "papermill": {
     "duration": 0.03341,
     "end_time": "2021-01-25T21:29:04.652506",
     "exception": false,
     "start_time": "2021-01-25T21:29:04.619096",
     "status": "completed"
    },
    "scrolled": true,
    "tags": []
   },
   "outputs": [],
   "source": [
    "## pandas\n",
    "pd.options.display.max_rows = 20\n",
    "pd.options.display.max_columns = 12"
   ]
  },
  {
   "cell_type": "code",
   "execution_count": 7,
   "metadata": {
    "execution": {
     "iopub.execute_input": "2021-01-25T21:29:04.707240Z",
     "iopub.status.busy": "2021-01-25T21:29:04.706656Z",
     "iopub.status.idle": "2021-01-25T21:29:04.710796Z",
     "shell.execute_reply": "2021-01-25T21:29:04.710120Z"
    },
    "papermill": {
     "duration": 0.033676,
     "end_time": "2021-01-25T21:29:04.710939",
     "exception": false,
     "start_time": "2021-01-25T21:29:04.677263",
     "status": "completed"
    },
    "scrolled": true,
    "tags": []
   },
   "outputs": [],
   "source": [
    "main_path = \"../input/fraud-detection/\""
   ]
  },
  {
   "cell_type": "code",
   "execution_count": 8,
   "metadata": {
    "execution": {
     "iopub.execute_input": "2021-01-25T21:29:04.765928Z",
     "iopub.status.busy": "2021-01-25T21:29:04.765302Z",
     "iopub.status.idle": "2021-01-25T21:29:09.177224Z",
     "shell.execute_reply": "2021-01-25T21:29:09.176180Z"
    },
    "papermill": {
     "duration": 4.441459,
     "end_time": "2021-01-25T21:29:09.177344",
     "exception": false,
     "start_time": "2021-01-25T21:29:04.735885",
     "status": "completed"
    },
    "scrolled": true,
    "tags": []
   },
   "outputs": [],
   "source": [
    "import xgboost as xgb\n",
    "import random as r"
   ]
  },
  {
   "cell_type": "code",
   "execution_count": 9,
   "metadata": {
    "execution": {
     "iopub.execute_input": "2021-01-25T21:29:09.232823Z",
     "iopub.status.busy": "2021-01-25T21:29:09.231975Z",
     "iopub.status.idle": "2021-01-25T21:29:09.234968Z",
     "shell.execute_reply": "2021-01-25T21:29:09.234468Z"
    },
    "papermill": {
     "duration": 0.032103,
     "end_time": "2021-01-25T21:29:09.235068",
     "exception": false,
     "start_time": "2021-01-25T21:29:09.202965",
     "status": "completed"
    },
    "scrolled": true,
    "tags": []
   },
   "outputs": [],
   "source": [
    "import joblib"
   ]
  },
  {
   "cell_type": "markdown",
   "metadata": {
    "papermill": {
     "duration": 0.024705,
     "end_time": "2021-01-25T21:29:09.284997",
     "exception": false,
     "start_time": "2021-01-25T21:29:09.260292",
     "status": "completed"
    },
    "tags": []
   },
   "source": [
    "## Load dater"
   ]
  },
  {
   "cell_type": "code",
   "execution_count": 10,
   "metadata": {
    "execution": {
     "iopub.execute_input": "2021-01-25T21:29:09.339627Z",
     "iopub.status.busy": "2021-01-25T21:29:09.338723Z",
     "iopub.status.idle": "2021-01-25T21:29:09.341717Z",
     "shell.execute_reply": "2021-01-25T21:29:09.341210Z"
    },
    "papermill": {
     "duration": 0.031789,
     "end_time": "2021-01-25T21:29:09.341814",
     "exception": false,
     "start_time": "2021-01-25T21:29:09.310025",
     "status": "completed"
    },
    "scrolled": true,
    "tags": []
   },
   "outputs": [],
   "source": [
    "buildLv = False\n",
    "buildSkf = True\n",
    "FI=True"
   ]
  },
  {
   "cell_type": "code",
   "execution_count": 11,
   "metadata": {
    "_cell_guid": "79c7e3d0-c299-4dcb-8224-4455121ee9b0",
    "_uuid": "d629ff2d2480ee46fbb7e2d37f6b5fab8052498a",
    "execution": {
     "iopub.execute_input": "2021-01-25T21:29:09.397599Z",
     "iopub.status.busy": "2021-01-25T21:29:09.397001Z",
     "iopub.status.idle": "2021-01-25T21:29:53.837390Z",
     "shell.execute_reply": "2021-01-25T21:29:53.838250Z"
    },
    "papermill": {
     "duration": 44.470657,
     "end_time": "2021-01-25T21:29:53.838419",
     "exception": false,
     "start_time": "2021-01-25T21:29:09.367762",
     "status": "completed"
    },
    "scrolled": true,
    "tags": []
   },
   "outputs": [
    {
     "name": "stdout",
     "output_type": "stream",
     "text": [
      "CPU times: user 1.31 s, sys: 6.24 s, total: 7.55 s\n",
      "Wall time: 44.4 s\n"
     ]
    }
   ],
   "source": [
    "%%time\n",
    "dset_str=\"all\"#all#50k#10k\n",
    "\n",
    "to = load_pickle(main_path+\"to_\"+dset_str+\"c.pkl\")\n",
    "to_tst = load_pickle(main_path+\"to_tst_\"+dset_str+\"c.pkl\")\n"
   ]
  },
  {
   "cell_type": "code",
   "execution_count": 12,
   "metadata": {
    "execution": {
     "iopub.execute_input": "2021-01-25T21:29:53.898934Z",
     "iopub.status.busy": "2021-01-25T21:29:53.897779Z",
     "iopub.status.idle": "2021-01-25T21:29:56.594354Z",
     "shell.execute_reply": "2021-01-25T21:29:56.593871Z"
    },
    "papermill": {
     "duration": 2.729523,
     "end_time": "2021-01-25T21:29:56.594461",
     "exception": false,
     "start_time": "2021-01-25T21:29:53.864938",
     "status": "completed"
    },
    "scrolled": true,
    "tags": []
   },
   "outputs": [
    {
     "data": {
      "text/plain": [
       "(590540, 433)"
      ]
     },
     "execution_count": 12,
     "metadata": {},
     "output_type": "execute_result"
    }
   ],
   "source": [
    "xs,y = to.train.xs,to.train.y\n",
    "valid_xs,valid_y = to.valid.xs,to.valid.y\n",
    "xs.shape"
   ]
  },
  {
   "cell_type": "code",
   "execution_count": 13,
   "metadata": {
    "execution": {
     "iopub.execute_input": "2021-01-25T21:29:56.651081Z",
     "iopub.status.busy": "2021-01-25T21:29:56.650430Z",
     "iopub.status.idle": "2021-01-25T21:29:57.207116Z",
     "shell.execute_reply": "2021-01-25T21:29:57.207604Z"
    },
    "papermill": {
     "duration": 0.587099,
     "end_time": "2021-01-25T21:29:57.207737",
     "exception": false,
     "start_time": "2021-01-25T21:29:56.620638",
     "status": "completed"
    },
    "scrolled": true,
    "tags": []
   },
   "outputs": [
    {
     "data": {
      "text/plain": [
       "ProductCD             0\n",
       "card4                 0\n",
       "card6                 0\n",
       "P_emaildomain         0\n",
       "R_emaildomain         0\n",
       "                  ...  \n",
       "id_22            585371\n",
       "id_24            585793\n",
       "id_25            585408\n",
       "id_26            585377\n",
       "id_32            512954\n",
       "Length: 433, dtype: int64"
      ]
     },
     "execution_count": 13,
     "metadata": {},
     "output_type": "execute_result"
    }
   ],
   "source": [
    "xs.isna().sum()"
   ]
  },
  {
   "cell_type": "code",
   "execution_count": 14,
   "metadata": {
    "execution": {
     "iopub.execute_input": "2021-01-25T21:29:57.981191Z",
     "iopub.status.busy": "2021-01-25T21:29:57.980158Z",
     "iopub.status.idle": "2021-01-25T21:29:59.848536Z",
     "shell.execute_reply": "2021-01-25T21:29:59.847661Z"
    },
    "papermill": {
     "duration": 2.612536,
     "end_time": "2021-01-25T21:29:59.848670",
     "exception": false,
     "start_time": "2021-01-25T21:29:57.236134",
     "status": "completed"
    },
    "scrolled": true,
    "tags": []
   },
   "outputs": [
    {
     "data": {
      "text/plain": [
       "(506691, 433)"
      ]
     },
     "execution_count": 14,
     "metadata": {},
     "output_type": "execute_result"
    }
   ],
   "source": [
    "test_xs = to_tst.xs.copy()\n",
    "test_xs.shape"
   ]
  },
  {
   "cell_type": "code",
   "execution_count": 15,
   "metadata": {
    "execution": {
     "iopub.execute_input": "2021-01-25T21:30:00.268714Z",
     "iopub.status.busy": "2021-01-25T21:30:00.267964Z",
     "iopub.status.idle": "2021-01-25T21:30:00.271877Z",
     "shell.execute_reply": "2021-01-25T21:30:00.271358Z"
    },
    "papermill": {
     "duration": 0.395319,
     "end_time": "2021-01-25T21:30:00.271987",
     "exception": false,
     "start_time": "2021-01-25T21:29:59.876668",
     "status": "completed"
    },
    "scrolled": true,
    "tags": []
   },
   "outputs": [],
   "source": [
    "del to, to_tst; x=gc.collect()"
   ]
  },
  {
   "cell_type": "markdown",
   "metadata": {
    "papermill": {
     "duration": 0.027306,
     "end_time": "2021-01-25T21:30:00.327293",
     "exception": false,
     "start_time": "2021-01-25T21:30:00.299987",
     "status": "completed"
    },
    "tags": []
   },
   "source": [
    "## Functions"
   ]
  },
  {
   "cell_type": "code",
   "execution_count": 16,
   "metadata": {
    "execution": {
     "iopub.execute_input": "2021-01-25T21:30:00.392292Z",
     "iopub.status.busy": "2021-01-25T21:30:00.391113Z",
     "iopub.status.idle": "2021-01-25T21:30:00.393722Z",
     "shell.execute_reply": "2021-01-25T21:30:00.394266Z"
    },
    "papermill": {
     "duration": 0.039123,
     "end_time": "2021-01-25T21:30:00.394385",
     "exception": false,
     "start_time": "2021-01-25T21:30:00.355262",
     "status": "completed"
    },
    "scrolled": true,
    "tags": []
   },
   "outputs": [],
   "source": [
    "def m_rep(m,xs,y): return classification_report(y, m.predict(xs), labels=[1,0], digits=4, output_dict=True)\n",
    "\n",
    "\n",
    "\n",
    "def metrics(m, xs, y , valid_xs, valid_y): \n",
    "    tr_rep = m_rep(m,xs,y)\n",
    "    vd_rep = m_rep(m,valid_xs,valid_y)\n",
    "    tr_auc = roc_auc_score(y,m.predict_proba(xs)[:,1])\n",
    "    oob_auc=0.0000\n",
    "    #oob_auc = roc_auc_score(y,m.oob_decision_function_[:,1])\n",
    "    vd_auc = roc_auc_score(valid_y,m.predict_proba(valid_xs)[:,1])\n",
    "    print('{:.4f} ; {:.4f} ; {:.4f}'\n",
    "          .format(tr_auc, oob_auc, vd_auc))"
   ]
  },
  {
   "cell_type": "code",
   "execution_count": 17,
   "metadata": {
    "execution": {
     "iopub.execute_input": "2021-01-25T21:30:00.456607Z",
     "iopub.status.busy": "2021-01-25T21:30:00.455991Z",
     "iopub.status.idle": "2021-01-25T21:30:00.460206Z",
     "shell.execute_reply": "2021-01-25T21:30:00.459620Z"
    },
    "papermill": {
     "duration": 0.038676,
     "end_time": "2021-01-25T21:30:00.460307",
     "exception": false,
     "start_time": "2021-01-25T21:30:00.421631",
     "status": "completed"
    },
    "scrolled": true,
    "tags": []
   },
   "outputs": [],
   "source": [
    "## Plot  important features\n",
    "def xgb_fi(m, df,df_real=None):\n",
    "    fi = pd.DataFrame({'cols':df.columns, 'imp':m.feature_importances_}\n",
    "                       ).sort_values('imp', ascending=False)\n",
    "    #fi[\"isCont\"] = fi.cols.isin(cont)\n",
    "    fi[\"countNA\"] = [df.loc[:,col].isna().sum()/len(df) if col in df.columns else float(\"NaN\") for col in fi.cols]\n",
    "    return fi\n",
    "\n",
    "def plot_fi(fi):\n",
    "    return fi.plot('cols', 'imp', 'barh', figsize=(12,7), legend=False)"
   ]
  },
  {
   "cell_type": "code",
   "execution_count": 18,
   "metadata": {
    "execution": {
     "iopub.execute_input": "2021-01-25T21:30:00.521632Z",
     "iopub.status.busy": "2021-01-25T21:30:00.521006Z",
     "iopub.status.idle": "2021-01-25T21:30:00.525192Z",
     "shell.execute_reply": "2021-01-25T21:30:00.524727Z"
    },
    "papermill": {
     "duration": 0.037509,
     "end_time": "2021-01-25T21:30:00.525286",
     "exception": false,
     "start_time": "2021-01-25T21:30:00.487777",
     "status": "completed"
    },
    "scrolled": true,
    "tags": []
   },
   "outputs": [],
   "source": [
    "def format_test_preds(preds,test_xs,comment):\n",
    "    #preds = m.predict_proba(test_xs[cols])[:,1]\n",
    "    print(pd.DataFrame(preds).describe())\n",
    "    \n",
    "    ## Make into submission dataframe\n",
    "    df_pred = pd.DataFrame({\"TransactionID\":test_xs.TransactionID.to_list(),\n",
    "                            \"isFraud\": preds})\n",
    "    \n",
    "    ## save\n",
    "    df_pred.to_csv(comment+\"my_subs.csv\",index=False)\n",
    "    print(df_pred.shape)\n",
    "    del df_pred; x=gc.collect()"
   ]
  },
  {
   "cell_type": "code",
   "execution_count": 19,
   "metadata": {
    "execution": {
     "iopub.execute_input": "2021-01-25T21:30:00.591826Z",
     "iopub.status.busy": "2021-01-25T21:30:00.588402Z",
     "iopub.status.idle": "2021-01-25T21:30:00.594543Z",
     "shell.execute_reply": "2021-01-25T21:30:00.594062Z"
    },
    "papermill": {
     "duration": 0.041539,
     "end_time": "2021-01-25T21:30:00.594652",
     "exception": false,
     "start_time": "2021-01-25T21:30:00.553113",
     "status": "completed"
    },
    "scrolled": true,
    "tags": []
   },
   "outputs": [],
   "source": [
    "def xgb_lvd_fun(i):\n",
    "    clf = xgb.XGBClassifier(n_estimators=1000, \n",
    "                        max_depth=8, #12\n",
    "                        learning_rate= 0.05,\n",
    "                        subsample= 0.6,#0.8 \n",
    "                        colsample_bytree= 0.4, \n",
    "                        random_state = r.randint(0,9999),\n",
    "#                         #USE CPU\n",
    "#                         nthread=4)\n",
    "                        # USE GPU\n",
    "                        tree_method='gpu_hist')\n",
    "\n",
    "    m = clf.fit(xs[cols].iloc[idxT], y.iloc[idxT], eval_set=[(xs[cols].iloc[idxV],y.iloc[idxV])],\n",
    "                eval_metric= \"auc\", verbose=100, early_stopping_rounds=100)\n",
    "    \n",
    "    tr_auc = roc_auc_score(y.iloc[idxT], m.predict_proba(xs[cols].iloc[idxT])[:,1])\n",
    "    vd_auc = roc_auc_score(y.iloc[idxV],m.predict_proba(xs[cols].iloc[idxV])[:,1])\n",
    "    \n",
    "    #tr_pred[idxT] += m.predict_proba(xs[cols].iloc[idxT])[:,1]/(skf.n_splits-1)\n",
    "    #oof_pred[idxV] += m.predict_proba(xs[cols].iloc[idxV])[:,1]\n",
    "    te_pred = m.predict_proba(test_xs[cols])[:,1]\n",
    "    \n",
    "    \n",
    "        \n",
    "    del m, clf; x=gc.collect()\n",
    "    return [tr_auc, vd_auc], te_pred\n",
    "    "
   ]
  },
  {
   "cell_type": "code",
   "execution_count": 20,
   "metadata": {
    "execution": {
     "iopub.execute_input": "2021-01-25T21:30:00.665230Z",
     "iopub.status.busy": "2021-01-25T21:30:00.662878Z",
     "iopub.status.idle": "2021-01-25T21:30:00.667759Z",
     "shell.execute_reply": "2021-01-25T21:30:00.667286Z"
    },
    "papermill": {
     "duration": 0.045386,
     "end_time": "2021-01-25T21:30:00.667853",
     "exception": false,
     "start_time": "2021-01-25T21:30:00.622467",
     "status": "completed"
    },
    "scrolled": true,
    "tags": []
   },
   "outputs": [],
   "source": [
    "def xgb_pred_fun():\n",
    "    from sklearn.model_selection import KFold\n",
    "    skf = KFold(n_splits = 5, shuffle = False, random_state = 42)\n",
    "\n",
    "    tr_pred = np.zeros(len(xs))\n",
    "    oof_pred = np.zeros(len(xs))\n",
    "    te_pred = np.zeros(len(test_xs))\n",
    "\n",
    "    for i, (idxT, idxV) in enumerate(skf.split(xs,y)):\n",
    "        print('Fold',i)\n",
    "        print(' n_rows of train =',len(idxT),'rows of holdout =',min(idxV),\"to\",max(idxV))#len(idxV))\n",
    "        clf = xgb.XGBClassifier(n_estimators=1000, \n",
    "                        max_depth=8, #12\n",
    "                        learning_rate= 0.05,\n",
    "                        subsample= 0.6,#0.8 \n",
    "                        colsample_bytree= 0.4, \n",
    "                        random_state = r.randint(0,9999),\n",
    "#                         #USE CPU\n",
    "#                         nthread=4)\n",
    "                        # USE GPU\n",
    "                        tree_method='gpu_hist')\n",
    "\n",
    "        m = clf.fit(xs[cols].iloc[idxT], y.iloc[idxT], eval_set=[(xs[cols].iloc[idxV],y.iloc[idxV])],\n",
    "                eval_metric= \"auc\", verbose=100, early_stopping_rounds=100)\n",
    "\n",
    "        tr_pred[idxT] += m.predict_proba(xs[cols].iloc[idxT])[:,1]/(skf.n_splits-1)\n",
    "        oof_pred[idxV] += m.predict_proba(xs[cols].iloc[idxV])[:,1]\n",
    "        te_pred += m.predict_proba(test_xs[cols])[:,1]/skf.n_splits\n",
    "        del m; x=gc.collect()\n",
    "\n",
    "    print('{:.4f} ; {:.4f} ; {:.4f}'\n",
    "              .format(roc_auc_score(y,tr_pred),roc_auc_score(y,oof_pred),0.000))\n",
    "    \n",
    "    return te_pred"
   ]
  },
  {
   "cell_type": "markdown",
   "metadata": {
    "papermill": {
     "duration": 0.028562,
     "end_time": "2021-01-25T21:30:00.724721",
     "exception": false,
     "start_time": "2021-01-25T21:30:00.696159",
     "status": "completed"
    },
    "tags": []
   },
   "source": [
    "## Column selection due to EDA."
   ]
  },
  {
   "cell_type": "code",
   "execution_count": 21,
   "metadata": {
    "execution": {
     "iopub.execute_input": "2021-01-25T21:30:00.789093Z",
     "iopub.status.busy": "2021-01-25T21:30:00.788243Z",
     "iopub.status.idle": "2021-01-25T21:30:00.889704Z",
     "shell.execute_reply": "2021-01-25T21:30:00.890195Z"
    },
    "papermill": {
     "duration": 0.136935,
     "end_time": "2021-01-25T21:30:00.890328",
     "exception": false,
     "start_time": "2021-01-25T21:30:00.753393",
     "status": "completed"
    },
    "tags": []
   },
   "outputs": [
    {
     "data": {
      "text/plain": [
       "(None, None)"
      ]
     },
     "execution_count": 21,
     "metadata": {},
     "output_type": "execute_result"
    }
   ],
   "source": [
    "## Create CENTS cols\n",
    "def split_cols(df, col = \"TransactionAmt\"):\n",
    "    df['cents'] = df[col].mod(1)\n",
    "    df[col] = df[col].floordiv(1)\n",
    "    \n",
    "split_cols(xs), split_cols(test_xs)"
   ]
  },
  {
   "cell_type": "code",
   "execution_count": 22,
   "metadata": {
    "execution": {
     "iopub.execute_input": "2021-01-25T21:30:00.955185Z",
     "iopub.status.busy": "2021-01-25T21:30:00.954258Z",
     "iopub.status.idle": "2021-01-25T21:30:00.957931Z",
     "shell.execute_reply": "2021-01-25T21:30:00.957279Z"
    },
    "papermill": {
     "duration": 0.038802,
     "end_time": "2021-01-25T21:30:00.958065",
     "exception": false,
     "start_time": "2021-01-25T21:30:00.919263",
     "status": "completed"
    },
    "scrolled": true,
    "tags": []
   },
   "outputs": [],
   "source": [
    "cols = xs.columns.to_list()"
   ]
  },
  {
   "cell_type": "code",
   "execution_count": 23,
   "metadata": {
    "execution": {
     "iopub.execute_input": "2021-01-25T21:30:01.057770Z",
     "iopub.status.busy": "2021-01-25T21:30:01.057049Z",
     "iopub.status.idle": "2021-01-25T21:30:01.060509Z",
     "shell.execute_reply": "2021-01-25T21:30:01.060998Z"
    },
    "papermill": {
     "duration": 0.064628,
     "end_time": "2021-01-25T21:30:01.061116",
     "exception": false,
     "start_time": "2021-01-25T21:30:00.996488",
     "status": "completed"
    },
    "scrolled": true,
    "tags": []
   },
   "outputs": [
    {
     "data": {
      "text/plain": [
       "139"
      ]
     },
     "execution_count": 23,
     "metadata": {},
     "output_type": "execute_result"
    }
   ],
   "source": [
    "## Vcol buckets (first filter based on correlation) From v11 EDA\n",
    "v = []\n",
    "v += ['V1', 'V3', 'V11', 'V9', 'V5', 'V7']\n",
    "v += ['V13', 'V17', 'V24', 'V14', 'V20', 'V27', 'V34', 'V26', 'V30']\n",
    "v += ['V36', 'V37', 'V47', 'V40', 'V48', 'V52', 'V41', 'V45']\n",
    "v += ['V54', 'V65', 'V60', 'V67', 'V56', 'V68', 'V62', 'V55', 'V70']\n",
    "v += ['V76', 'V89', 'V91', 'V81', 'V82', 'V87', 'V78', 'V88']\n",
    "v += ['V127', 'V121', 'V99', 'V110', 'V104', 'V130', 'V129', 'V131', 'V109', 'V136', 'V116', 'V120', 'V125', 'V113', 'V118', 'V98', 'V107', 'V117', 'V115']\n",
    "v += ['V138', 'V140', 'V142', 'V147', 'V155', 'V162']\n",
    "v += ['V165', 'V160', 'V166']\n",
    "v += ['V203', 'V207', 'V216', 'V187', 'V176', 'V173', 'V183', 'V215']\n",
    "v += ['V169', 'V195', 'V201', 'V171', 'V174', 'V175', 'V209', 'V185', 'V188', 'V210', 'V198', 'V180']\n",
    "v += ['V274', 'V264', 'V265', 'V261', 'V235', 'V223', 'V258', 'V260', 'V246', 'V252', 'V241', 'V266', 'V240', 'V277', 'V228', 'V226']\n",
    "v += ['V220', 'V239', 'V271', 'V221', 'V234', 'V251']\n",
    "v += ['V307', 'V291', 'V285', 'V290', 'V312', 'V297', 'V305', 'V320', 'V303', 'V286', 'V309', 'V284', 'V310']\n",
    "v += ['V281', 'V301', 'V282', 'V315', 'V289', 'V296', 'V314', 'V283']\n",
    "v += ['V332', 'V338', 'V337', 'V336', 'V325', 'V326', 'V328', 'V335']\n",
    "len(v)\n"
   ]
  },
  {
   "cell_type": "code",
   "execution_count": 24,
   "metadata": {
    "execution": {
     "iopub.execute_input": "2021-01-25T21:30:01.130742Z",
     "iopub.status.busy": "2021-01-25T21:30:01.128942Z",
     "iopub.status.idle": "2021-01-25T21:30:01.134251Z",
     "shell.execute_reply": "2021-01-25T21:30:01.133583Z"
    },
    "papermill": {
     "duration": 0.043899,
     "end_time": "2021-01-25T21:30:01.134373",
     "exception": false,
     "start_time": "2021-01-25T21:30:01.090474",
     "status": "completed"
    },
    "scrolled": true,
    "tags": []
   },
   "outputs": [
    {
     "name": "stdout",
     "output_type": "stream",
     "text": [
      "234\n"
     ]
    }
   ],
   "source": [
    "def set_approach(a,b):\n",
    "    return list(set(a)-set(b))\n",
    "\n",
    "# Remove all v columns using below code\n",
    "tf_V = [bool(re.search(\"^V\"+\"[0-9]+\",col)) for col in xs.columns.to_list()]\n",
    "cols = xs.columns[list(~np.array(tf_V))].to_list()\n",
    "cols +=v\n",
    "print(len(cols))\n"
   ]
  },
  {
   "cell_type": "code",
   "execution_count": 25,
   "metadata": {
    "execution": {
     "iopub.execute_input": "2021-01-25T21:30:01.200094Z",
     "iopub.status.busy": "2021-01-25T21:30:01.198266Z",
     "iopub.status.idle": "2021-01-25T21:30:01.200813Z",
     "shell.execute_reply": "2021-01-25T21:30:01.201295Z"
    },
    "papermill": {
     "duration": 0.036681,
     "end_time": "2021-01-25T21:30:01.201405",
     "exception": false,
     "start_time": "2021-01-25T21:30:01.164724",
     "status": "completed"
    },
    "scrolled": true,
    "tags": []
   },
   "outputs": [],
   "source": [
    "#fi.cols[fi.imp>0.01].to_list()\n",
    "cols_rem = ['TransactionID', 'TransactionDT']"
   ]
  },
  {
   "cell_type": "code",
   "execution_count": 26,
   "metadata": {
    "execution": {
     "iopub.execute_input": "2021-01-25T21:30:01.266431Z",
     "iopub.status.busy": "2021-01-25T21:30:01.265863Z",
     "iopub.status.idle": "2021-01-25T21:30:01.270028Z",
     "shell.execute_reply": "2021-01-25T21:30:01.269500Z"
    },
    "papermill": {
     "duration": 0.037826,
     "end_time": "2021-01-25T21:30:01.270117",
     "exception": false,
     "start_time": "2021-01-25T21:30:01.232291",
     "status": "completed"
    },
    "scrolled": true,
    "tags": []
   },
   "outputs": [],
   "source": [
    "cols = set_approach(cols,cols_rem)"
   ]
  },
  {
   "cell_type": "code",
   "execution_count": 27,
   "metadata": {
    "execution": {
     "iopub.execute_input": "2021-01-25T21:30:01.339906Z",
     "iopub.status.busy": "2021-01-25T21:30:01.339000Z",
     "iopub.status.idle": "2021-01-25T21:30:01.342894Z",
     "shell.execute_reply": "2021-01-25T21:30:01.343362Z"
    },
    "papermill": {
     "duration": 0.043459,
     "end_time": "2021-01-25T21:30:01.343466",
     "exception": false,
     "start_time": "2021-01-25T21:30:01.300007",
     "status": "completed"
    },
    "scrolled": true,
    "tags": []
   },
   "outputs": [
    {
     "data": {
      "text/plain": [
       "['V234',\n",
       " 'V24',\n",
       " 'V162',\n",
       " 'D15',\n",
       " 'D13',\n",
       " 'D3',\n",
       " 'V82',\n",
       " 'V284',\n",
       " 'V210',\n",
       " 'D1',\n",
       " 'V296',\n",
       " 'M4',\n",
       " 'V87',\n",
       " 'V165',\n",
       " 'V235',\n",
       " 'card4',\n",
       " 'C9',\n",
       " 'id_4',\n",
       " 'C2',\n",
       " 'V176',\n",
       " 'V17',\n",
       " 'V277',\n",
       " 'V228',\n",
       " 'V115',\n",
       " 'V113',\n",
       " 'M2',\n",
       " 'V5',\n",
       " 'V169',\n",
       " 'M8',\n",
       " 'DeviceInfo',\n",
       " 'V281',\n",
       " 'addr2',\n",
       " 'V142',\n",
       " 'V140',\n",
       " 'V336',\n",
       " 'V314',\n",
       " 'V160',\n",
       " 'C10',\n",
       " 'V55',\n",
       " 'M9',\n",
       " 'C6',\n",
       " 'V127',\n",
       " 'V283',\n",
       " 'V67',\n",
       " 'id_3',\n",
       " 'D5',\n",
       " 'V312',\n",
       " 'C7',\n",
       " 'V91',\n",
       " 'R_emaildomain',\n",
       " 'V109',\n",
       " 'id_11',\n",
       " 'V274',\n",
       " 'V226',\n",
       " 'V201',\n",
       " 'V203',\n",
       " 'D7',\n",
       " 'id_16',\n",
       " 'id_33',\n",
       " 'V9',\n",
       " 'V62',\n",
       " 'V110',\n",
       " 'C13',\n",
       " 'V290',\n",
       " 'id_28',\n",
       " 'V3',\n",
       " 'V65',\n",
       " 'V251',\n",
       " 'id_5',\n",
       " 'V155',\n",
       " 'id_27',\n",
       " 'V136',\n",
       " 'V328',\n",
       " 'id_23',\n",
       " 'V303',\n",
       " 'id_22',\n",
       " 'id_36',\n",
       " 'V310',\n",
       " 'V30',\n",
       " 'V260',\n",
       " 'V241',\n",
       " 'card5',\n",
       " 'V220',\n",
       " 'V70',\n",
       " 'id_34',\n",
       " 'V131',\n",
       " 'ProductCD',\n",
       " 'D10',\n",
       " 'id_7',\n",
       " 'id_18',\n",
       " 'V246',\n",
       " 'V291',\n",
       " 'V104',\n",
       " 'V297',\n",
       " 'id_13',\n",
       " 'V307',\n",
       " 'C5',\n",
       " 'V264',\n",
       " 'V266',\n",
       " 'V325',\n",
       " 'V45',\n",
       " 'id_37',\n",
       " 'id_24',\n",
       " 'V26',\n",
       " 'V240',\n",
       " 'V309',\n",
       " 'V320',\n",
       " 'V78',\n",
       " 'V68',\n",
       " 'V183',\n",
       " 'V52',\n",
       " 'V198',\n",
       " 'V252',\n",
       " 'id_38',\n",
       " 'V129',\n",
       " 'V138',\n",
       " 'id_1',\n",
       " 'V216',\n",
       " 'V271',\n",
       " 'M6',\n",
       " 'V171',\n",
       " 'id_30',\n",
       " 'card2',\n",
       " 'V175',\n",
       " 'V337',\n",
       " 'M7',\n",
       " 'V120',\n",
       " 'M1',\n",
       " 'V239',\n",
       " 'M5',\n",
       " 'V289',\n",
       " 'V11',\n",
       " 'V174',\n",
       " 'id_21',\n",
       " 'V76',\n",
       " 'id_2',\n",
       " 'V88',\n",
       " 'V315',\n",
       " 'D2',\n",
       " 'V221',\n",
       " 'V173',\n",
       " 'V37',\n",
       " 'id_6',\n",
       " 'dist1',\n",
       " 'id_14',\n",
       " 'V56',\n",
       " 'V48',\n",
       " 'V265',\n",
       " 'card1',\n",
       " 'V7',\n",
       " 'V195',\n",
       " 'DeviceType',\n",
       " 'card6',\n",
       " 'addr1',\n",
       " 'id_20',\n",
       " 'id_25',\n",
       " 'D9',\n",
       " 'V261',\n",
       " 'V130',\n",
       " 'C14',\n",
       " 'P_emaildomain',\n",
       " 'card3',\n",
       " 'V36',\n",
       " 'V40',\n",
       " 'V116',\n",
       " 'V258',\n",
       " 'D4',\n",
       " 'C11',\n",
       " 'dist2',\n",
       " 'TransactionAmt',\n",
       " 'V121',\n",
       " 'V81',\n",
       " 'id_31',\n",
       " 'D8',\n",
       " 'V41',\n",
       " 'V188',\n",
       " 'V147',\n",
       " 'V326',\n",
       " 'id_29',\n",
       " 'V335',\n",
       " 'V180',\n",
       " 'V282',\n",
       " 'id_32',\n",
       " 'V34',\n",
       " 'V332',\n",
       " 'V125',\n",
       " 'id_8',\n",
       " 'V13',\n",
       " 'cents',\n",
       " 'V54',\n",
       " 'V99',\n",
       " 'V1',\n",
       " 'id_17',\n",
       " 'id_19',\n",
       " 'V117',\n",
       " 'id_15',\n",
       " 'id_10',\n",
       " 'V209',\n",
       " 'id_12',\n",
       " 'V20',\n",
       " 'V60',\n",
       " 'V185',\n",
       " 'V187',\n",
       " 'V118',\n",
       " 'C1',\n",
       " 'D14',\n",
       " 'C12',\n",
       " 'D12',\n",
       " 'V223',\n",
       " 'V98',\n",
       " 'V338',\n",
       " 'M3',\n",
       " 'id_35',\n",
       " 'V301',\n",
       " 'C3',\n",
       " 'V285',\n",
       " 'D6',\n",
       " 'C4',\n",
       " 'C8',\n",
       " 'id_26',\n",
       " 'V89',\n",
       " 'V207',\n",
       " 'id_9',\n",
       " 'V14',\n",
       " 'V27',\n",
       " 'V215',\n",
       " 'D11',\n",
       " 'V305',\n",
       " 'V107',\n",
       " 'V166',\n",
       " 'V286',\n",
       " 'V47']"
      ]
     },
     "execution_count": 27,
     "metadata": {},
     "output_type": "execute_result"
    }
   ],
   "source": [
    "cols"
   ]
  },
  {
   "cell_type": "code",
   "execution_count": 28,
   "metadata": {
    "execution": {
     "iopub.execute_input": "2021-01-25T21:30:01.408744Z",
     "iopub.status.busy": "2021-01-25T21:30:01.407814Z",
     "iopub.status.idle": "2021-01-25T21:30:01.413409Z",
     "shell.execute_reply": "2021-01-25T21:30:01.413983Z"
    },
    "papermill": {
     "duration": 0.040069,
     "end_time": "2021-01-25T21:30:01.414121",
     "exception": false,
     "start_time": "2021-01-25T21:30:01.374052",
     "status": "completed"
    },
    "scrolled": true,
    "tags": []
   },
   "outputs": [
    {
     "data": {
      "text/plain": [
       "232"
      ]
     },
     "execution_count": 28,
     "metadata": {},
     "output_type": "execute_result"
    }
   ],
   "source": [
    "len(cols)"
   ]
  },
  {
   "cell_type": "markdown",
   "metadata": {
    "papermill": {
     "duration": 0.031018,
     "end_time": "2021-01-25T21:30:01.476148",
     "exception": false,
     "start_time": "2021-01-25T21:30:01.445130",
     "status": "completed"
    },
    "tags": []
   },
   "source": [
    "## Local validation averging values based on randint"
   ]
  },
  {
   "cell_type": "code",
   "execution_count": 29,
   "metadata": {
    "execution": {
     "iopub.execute_input": "2021-01-25T21:30:01.544033Z",
     "iopub.status.busy": "2021-01-25T21:30:01.543174Z",
     "iopub.status.idle": "2021-01-25T21:30:01.597786Z",
     "shell.execute_reply": "2021-01-25T21:30:01.597302Z"
    },
    "papermill": {
     "duration": 0.090721,
     "end_time": "2021-01-25T21:30:01.597880",
     "exception": false,
     "start_time": "2021-01-25T21:30:01.507159",
     "status": "completed"
    },
    "scrolled": true,
    "tags": []
   },
   "outputs": [],
   "source": [
    "## Linear split 80% 20%\n",
    "msk = np.arange(len(xs))<0.8*len(xs) #usually 0.8, 0.8851 for the oversampling case\n",
    "idxT = list(np.where(msk)[0])\n",
    "idxV = list(np.where(~msk)[0])"
   ]
  },
  {
   "cell_type": "code",
   "execution_count": 30,
   "metadata": {
    "execution": {
     "iopub.execute_input": "2021-01-25T21:30:01.666656Z",
     "iopub.status.busy": "2021-01-25T21:30:01.665948Z",
     "iopub.status.idle": "2021-01-25T21:30:01.670702Z",
     "shell.execute_reply": "2021-01-25T21:30:01.671283Z"
    },
    "papermill": {
     "duration": 0.042145,
     "end_time": "2021-01-25T21:30:01.671433",
     "exception": false,
     "start_time": "2021-01-25T21:30:01.629288",
     "status": "completed"
    },
    "scrolled": true,
    "tags": []
   },
   "outputs": [
    {
     "name": "stdout",
     "output_type": "stream",
     "text": [
      "CPU times: user 1e+03 ns, sys: 2 µs, total: 3 µs\n",
      "Wall time: 7.15 µs\n"
     ]
    }
   ],
   "source": [
    "%%time\n",
    "## Run LV 5 times\n",
    "\n",
    "if buildLv:\n",
    "    n=5\n",
    "    preds = np.zeros(len(test_xs))\n",
    "    auc_lst = []\n",
    "    for i in range(n):\n",
    "        print(\"iteation\",i)\n",
    "        a,temp = xgb_lvd_fun()\n",
    "        preds += temp/n\n",
    "        auc_lst.append(a)\n",
    "        del temp; x=gc.collect()\n",
    "        #print(a)\n",
    "    auc_lst = np.array(auc_lst)\n",
    "    print(auc_lst.mean(axis=0))\n",
    "    print(auc_lst.std(axis=0))\n",
    "    format_test_preds(preds,test_xs,\"baselineLV\")\n"
   ]
  },
  {
   "cell_type": "code",
   "execution_count": 31,
   "metadata": {
    "execution": {
     "iopub.execute_input": "2021-01-25T21:30:01.744639Z",
     "iopub.status.busy": "2021-01-25T21:30:01.743872Z",
     "iopub.status.idle": "2021-01-25T21:40:17.527544Z",
     "shell.execute_reply": "2021-01-25T21:40:17.528364Z"
    },
    "papermill": {
     "duration": 615.824759,
     "end_time": "2021-01-25T21:40:17.528613",
     "exception": false,
     "start_time": "2021-01-25T21:30:01.703854",
     "status": "completed"
    },
    "scrolled": true,
    "tags": []
   },
   "outputs": [
    {
     "name": "stdout",
     "output_type": "stream",
     "text": [
      "Fold 0\n",
      " n_rows of train = 472432 rows of holdout = 0 to 118107\n"
     ]
    },
    {
     "name": "stderr",
     "output_type": "stream",
     "text": [
      "/opt/conda/lib/python3.7/site-packages/sklearn/model_selection/_split.py:297: FutureWarning: Setting a random_state has no effect since shuffle is False. This will raise an error in 0.24. You should leave random_state to its default (None), or set shuffle=True.\n",
      "  FutureWarning\n"
     ]
    },
    {
     "name": "stdout",
     "output_type": "stream",
     "text": [
      "[0]\tvalidation_0-auc:0.77869\n",
      "Will train until validation_0-auc hasn't improved in 100 rounds.\n",
      "[100]\tvalidation_0-auc:0.87431\n",
      "[200]\tvalidation_0-auc:0.89829\n",
      "[300]\tvalidation_0-auc:0.90603\n",
      "[400]\tvalidation_0-auc:0.90970\n",
      "[500]\tvalidation_0-auc:0.91245\n",
      "[600]\tvalidation_0-auc:0.91299\n",
      "[700]\tvalidation_0-auc:0.91336\n",
      "Stopping. Best iteration:\n",
      "[693]\tvalidation_0-auc:0.91350\n",
      "\n",
      "Fold 1\n",
      " n_rows of train = 472432 rows of holdout = 118108 to 236215\n",
      "[0]\tvalidation_0-auc:0.79768\n",
      "Will train until validation_0-auc hasn't improved in 100 rounds.\n",
      "[100]\tvalidation_0-auc:0.89727\n",
      "[200]\tvalidation_0-auc:0.91569\n",
      "[300]\tvalidation_0-auc:0.92021\n",
      "[400]\tvalidation_0-auc:0.92413\n",
      "[500]\tvalidation_0-auc:0.92643\n",
      "[600]\tvalidation_0-auc:0.92755\n",
      "[700]\tvalidation_0-auc:0.92725\n",
      "Stopping. Best iteration:\n",
      "[649]\tvalidation_0-auc:0.92771\n",
      "\n",
      "Fold 2\n",
      " n_rows of train = 472432 rows of holdout = 236216 to 354323\n",
      "[0]\tvalidation_0-auc:0.78951\n",
      "Will train until validation_0-auc hasn't improved in 100 rounds.\n",
      "[100]\tvalidation_0-auc:0.89765\n",
      "[200]\tvalidation_0-auc:0.91513\n",
      "[300]\tvalidation_0-auc:0.92073\n",
      "[400]\tvalidation_0-auc:0.92383\n",
      "[500]\tvalidation_0-auc:0.92501\n",
      "[600]\tvalidation_0-auc:0.92620\n",
      "[700]\tvalidation_0-auc:0.92617\n",
      "Stopping. Best iteration:\n",
      "[657]\tvalidation_0-auc:0.92642\n",
      "\n",
      "Fold 3\n",
      " n_rows of train = 472432 rows of holdout = 354324 to 472431\n",
      "[0]\tvalidation_0-auc:0.82593\n",
      "Will train until validation_0-auc hasn't improved in 100 rounds.\n",
      "[100]\tvalidation_0-auc:0.91314\n",
      "[200]\tvalidation_0-auc:0.93318\n",
      "[300]\tvalidation_0-auc:0.93828\n",
      "[400]\tvalidation_0-auc:0.94139\n",
      "[500]\tvalidation_0-auc:0.94222\n",
      "[600]\tvalidation_0-auc:0.94312\n",
      "[700]\tvalidation_0-auc:0.94324\n",
      "[800]\tvalidation_0-auc:0.94353\n",
      "[900]\tvalidation_0-auc:0.94390\n",
      "Stopping. Best iteration:\n",
      "[866]\tvalidation_0-auc:0.94395\n",
      "\n",
      "Fold 4\n",
      " n_rows of train = 472432 rows of holdout = 472432 to 590539\n",
      "[0]\tvalidation_0-auc:0.79270\n",
      "Will train until validation_0-auc hasn't improved in 100 rounds.\n",
      "[100]\tvalidation_0-auc:0.88752\n",
      "[200]\tvalidation_0-auc:0.90878\n",
      "[300]\tvalidation_0-auc:0.91334\n",
      "[400]\tvalidation_0-auc:0.91576\n",
      "[500]\tvalidation_0-auc:0.91677\n",
      "[600]\tvalidation_0-auc:0.91743\n",
      "[700]\tvalidation_0-auc:0.91724\n",
      "Stopping. Best iteration:\n",
      "[641]\tvalidation_0-auc:0.91765\n",
      "\n",
      "0.9887 ; 0.9261 ; 0.0000\n",
      "                   0\n",
      "count  506691.000000\n",
      "mean        0.030180\n",
      "std         0.117752\n",
      "min         0.000018\n",
      "25%         0.001938\n",
      "50%         0.004857\n",
      "75%         0.013059\n",
      "max         0.999569\n",
      "(506691, 2)\n",
      "CPU times: user 9min 52s, sys: 18.8 s, total: 10min 10s\n",
      "Wall time: 10min 15s\n"
     ]
    }
   ],
   "source": [
    "%%time\n",
    "## Run 6 time kfold along with OOF prediction and fold based prediction of Test\n",
    "\n",
    "if buildSkf:\n",
    "\n",
    "    preds = xgb_pred_fun()\n",
    "    format_test_preds(preds,test_xs,\"baseline\")\n",
    "    del preds; x=gc.collect()"
   ]
  },
  {
   "cell_type": "code",
   "execution_count": 32,
   "metadata": {
    "execution": {
     "iopub.execute_input": "2021-01-25T21:40:17.862144Z",
     "iopub.status.busy": "2021-01-25T21:40:17.861006Z",
     "iopub.status.idle": "2021-01-25T21:40:56.259312Z",
     "shell.execute_reply": "2021-01-25T21:40:56.260008Z"
    },
    "papermill": {
     "duration": 38.678486,
     "end_time": "2021-01-25T21:40:56.260196",
     "exception": false,
     "start_time": "2021-01-25T21:40:17.581710",
     "status": "completed"
    },
    "scrolled": true,
    "tags": []
   },
   "outputs": [
    {
     "name": "stdout",
     "output_type": "stream",
     "text": [
      "[0]\tvalidation_0-auc:0.77125\n",
      "Will train until validation_0-auc hasn't improved in 100 rounds.\n",
      "[100]\tvalidation_0-auc:0.88800\n",
      "[200]\tvalidation_0-auc:0.90898\n",
      "[300]\tvalidation_0-auc:0.91282\n",
      "[400]\tvalidation_0-auc:0.91578\n",
      "[500]\tvalidation_0-auc:0.91783\n",
      "[600]\tvalidation_0-auc:0.91844\n",
      "[700]\tvalidation_0-auc:0.91880\n",
      "[800]\tvalidation_0-auc:0.91867\n",
      "Stopping. Best iteration:\n",
      "[714]\tvalidation_0-auc:0.91902\n",
      "\n",
      "['V258', 'V246', 'V201', 'V195', 'V70', 'C7', 'V188', 'V91', 'C4', 'V155', 'V187', 'V283', 'V223', 'C14', 'V68', 'V65', 'addr2', 'V174', 'C8', 'V30', 'V45', 'id_17', 'C11', 'C13', 'card6', 'V198', 'C12', 'ProductCD', 'V138', 'V162', 'V62', 'card3', 'C5', 'C1', 'C10', 'V142', 'V326', 'V67', 'V87', 'V281', 'R_emaildomain', 'V54', 'id_32', 'V209', 'V207', 'V252', 'id_12', 'D2', 'V13', 'V169', 'C2', 'id_9', 'V115', 'V17', 'V307', 'V335', 'V296', 'V175', 'DeviceType', 'D3', 'V266', 'V274', 'id_3', 'C6', 'M4', 'V282', 'V332', 'V320', 'V125', 'V328', 'C3', 'M5', 'V48', 'V82', 'D1', 'V312', 'P_emaildomain', 'V109', 'M6', 'V210', 'V261', 'C9', 'V314', 'id_1', 'card2', 'V20', 'V147', 'V315', 'V165', 'V171', 'D15', 'V47', 'V290', 'V173', 'V251', 'D10', 'DeviceInfo', 'V55', 'V99', 'V26', 'V76', 'TransactionAmt', 'card5', 'addr1', 'card1', 'V286', 'V285', 'V160', 'V310', 'id_30', 'D4', 'V301', 'D12', 'V185', 'V265', 'V34', 'V140', 'V52', 'V56', 'V81', 'dist1', 'V78', 'D13', 'id_36', 'card4', 'V60', 'id_34', 'M3', 'V289', 'id_25', 'V228', 'id_21', 'id_24', 'V36', 'id_20', 'D8', 'V24', 'D11', 'id_33', 'V338', 'id_7', 'V40', 'id_38', 'V41', 'id_4', 'V136', 'V271', 'V127', 'V239', 'V116', 'D6', 'cents', 'V121', 'V297', 'V291', 'V129', 'V336', 'V240', 'id_11', 'V220', 'V37', 'V9', 'id_31', 'V309', 'V166', 'D7', 'V221', 'id_14', 'D5', 'V234', 'D14', 'id_18', 'V130', 'V131', 'V11', 'V284', 'V337', 'id_13', 'V3', 'V88', 'V113', 'V5', 'V215', 'id_6', 'V277', 'M2', 'M9', 'id_2', 'id_15', 'dist2', 'V89', 'M7', 'id_23', 'id_5', 'id_19', 'id_10', 'id_8', 'V7', 'V226', 'V260', 'V303', 'id_16', 'V98', 'M1', 'V216', 'id_37', 'M8', 'V110', 'V235', 'V264', 'id_26', 'V203', 'V180', 'D9', 'V325', 'id_28', 'V118', 'V176', 'V183', 'id_29', 'V104', 'id_27', 'V27', 'id_35', 'V14', 'V1']\n"
     ]
    }
   ],
   "source": [
    "## get feature importances\n",
    "\n",
    "if FI==True:\n",
    "    clf = xgb.XGBClassifier(n_estimators=1000, \n",
    "                        max_depth=8, #12\n",
    "                        learning_rate= 0.05,\n",
    "                        subsample= 0.6,#0.8 \n",
    "                        colsample_bytree= 0.4, \n",
    "                        random_state = r.randint(0,9999),\n",
    "    #                         #USE CPU\n",
    "    #                         nthread=4)\n",
    "                        # USE GPU\n",
    "                        tree_method='gpu_hist')\n",
    "\n",
    "    m = clf.fit(xs[cols].iloc[idxT], y.iloc[idxT], eval_set=[(xs[cols].iloc[idxV],y.iloc[idxV])],\n",
    "                eval_metric= \"auc\", verbose=100, early_stopping_rounds=100)\n",
    "    \n",
    "    joblib.dump(m, 'm_lv.pkl')#save one m file for fi and other things...\n",
    "    \n",
    "    fi = xgb_fi(m, xs[cols])\n",
    "    fi.to_csv(\"fi_lv.csv\",index=False)\n",
    "    print(fi.cols[fi.imp>0.0005].to_list())"
   ]
  },
  {
   "cell_type": "code",
   "execution_count": 33,
   "metadata": {
    "execution": {
     "iopub.execute_input": "2021-01-25T21:40:56.380193Z",
     "iopub.status.busy": "2021-01-25T21:40:56.379327Z",
     "iopub.status.idle": "2021-01-25T21:40:56.383592Z",
     "shell.execute_reply": "2021-01-25T21:40:56.383074Z"
    },
    "papermill": {
     "duration": 0.065671,
     "end_time": "2021-01-25T21:40:56.383709",
     "exception": false,
     "start_time": "2021-01-25T21:40:56.318038",
     "status": "completed"
    },
    "tags": []
   },
   "outputs": [
    {
     "data": {
      "text/plain": [
       "(590540, 434)"
      ]
     },
     "execution_count": 33,
     "metadata": {},
     "output_type": "execute_result"
    }
   ],
   "source": [
    "xs.shape"
   ]
  }
 ],
 "metadata": {
  "kernelspec": {
   "display_name": "Python 3",
   "language": "python",
   "name": "python3"
  },
  "language_info": {
   "codemirror_mode": {
    "name": "ipython",
    "version": 3
   },
   "file_extension": ".py",
   "mimetype": "text/x-python",
   "name": "python",
   "nbconvert_exporter": "python",
   "pygments_lexer": "ipython3",
   "version": "3.7.6"
  },
  "papermill": {
   "duration": 732.88605,
   "end_time": "2021-01-25T21:40:56.850332",
   "environment_variables": {},
   "exception": null,
   "input_path": "__notebook__.ipynb",
   "output_path": "__notebook__.ipynb",
   "parameters": {},
   "start_time": "2021-01-25T21:28:43.964282",
   "version": "2.1.0"
  }
 },
 "nbformat": 4,
 "nbformat_minor": 4
}
